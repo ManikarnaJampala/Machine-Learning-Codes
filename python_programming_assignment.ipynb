{
 "cells": [
  {
   "cell_type": "code",
   "execution_count": 2,
   "id": "1554d329-54eb-4a79-bb21-4eae7a510a9e",
   "metadata": {},
   "outputs": [
    {
     "name": "stdin",
     "output_type": "stream",
     "text": [
      "enter a number greater than 1:  5\n"
     ]
    },
    {
     "name": "stdout",
     "output_type": "stream",
     "text": [
      "5 is a prime\n"
     ]
    }
   ],
   "source": [
    "#Exercise-1\n",
    "# checking whether the given number is prime or not:\n",
    "\n",
    "def is_prime(num):\n",
    "    if num<=1:\n",
    "        return (\"enter the number greater than one\")\n",
    "    i=2\n",
    "    while i*i <= num:\n",
    "        if num%i==0:\n",
    "            return (f\"{num} is not a prime\")\n",
    "        i += 1\n",
    "    return (f\"{num} is a prime\")\n",
    "\n",
    "res=is_prime(int(input(\"enter a number greater than 1: \")))\n",
    "print(res)\n"
   ]
  },
  {
   "cell_type": "code",
   "execution_count": 7,
   "id": "cd6e625c-49f0-46ef-9620-25f0a68903b5",
   "metadata": {},
   "outputs": [
    {
     "name": "stdin",
     "output_type": "stream",
     "text": [
      "enter the product of 17 and 14:  98\n"
     ]
    },
    {
     "name": "stdout",
     "output_type": "stream",
     "text": [
      "sorry!..you entered a roung answer.better luck next time.\n"
     ]
    }
   ],
   "source": [
    "#Exercise-2\n",
    "# Develop a Python program that generates two random numbers and checking their products:\n",
    "\n",
    "import random\n",
    "num1=random.randint(1,20)\n",
    "num2=random.randint(1,20)\n",
    "res=int(input(f\"enter the product of {num1} and {num2}: \"))\n",
    "if res == (num1*num2):\n",
    "    print(\"great your answer is perfect!\")\n",
    "else:\n",
    "    print(\"sorry!..you entered a roung answer.better luck next time.\")"
   ]
  },
  {
   "cell_type": "code",
   "execution_count": 4,
   "id": "49af79cf-1024-47de-9ce7-e0c2403e5315",
   "metadata": {},
   "outputs": [
    {
     "name": "stdout",
     "output_type": "stream",
     "text": [
      "100 * 100 = 10000\n",
      "102 * 102 = 10404\n",
      "104 * 104 = 10816\n",
      "106 * 106 = 11236\n",
      "108 * 108 = 11664\n",
      "110 * 110 = 12100\n",
      "112 * 112 = 12544\n",
      "114 * 114 = 12996\n",
      "116 * 116 = 13456\n",
      "118 * 118 = 13924\n",
      "120 * 120 = 14400\n",
      "122 * 122 = 14884\n",
      "124 * 124 = 15376\n",
      "126 * 126 = 15876\n",
      "128 * 128 = 16384\n",
      "130 * 130 = 16900\n",
      "132 * 132 = 17424\n",
      "134 * 134 = 17956\n",
      "136 * 136 = 18496\n",
      "138 * 138 = 19044\n",
      "140 * 140 = 19600\n",
      "142 * 142 = 20164\n",
      "144 * 144 = 20736\n",
      "146 * 146 = 21316\n",
      "148 * 148 = 21904\n",
      "150 * 150 = 22500\n",
      "152 * 152 = 23104\n",
      "154 * 154 = 23716\n",
      "156 * 156 = 24336\n",
      "158 * 158 = 24964\n",
      "160 * 160 = 25600\n",
      "162 * 162 = 26244\n",
      "164 * 164 = 26896\n",
      "166 * 166 = 27556\n",
      "168 * 168 = 28224\n",
      "170 * 170 = 28900\n",
      "172 * 172 = 29584\n",
      "174 * 174 = 30276\n",
      "176 * 176 = 30976\n",
      "178 * 178 = 31684\n",
      "180 * 180 = 32400\n",
      "182 * 182 = 33124\n",
      "184 * 184 = 33856\n",
      "186 * 186 = 34596\n",
      "188 * 188 = 35344\n",
      "190 * 190 = 36100\n",
      "192 * 192 = 36864\n",
      "194 * 194 = 37636\n",
      "196 * 196 = 38416\n",
      "198 * 198 = 39204\n"
     ]
    }
   ],
   "source": [
    "#Exercise-3\n",
    "# squares of all the even numbers in the range 100 to 200:\n",
    "\n",
    "for i in range(100,200):\n",
    "    if i%2==0:\n",
    "        print(i,\"*\",i,\"=\",i*i)\n",
    "    else:\n",
    "        continue"
   ]
  },
  {
   "cell_type": "code",
   "execution_count": 5,
   "id": "b2525fb3-3776-4a31-b6b0-5cb1c2df71c3",
   "metadata": {},
   "outputs": [
    {
     "name": "stdin",
     "output_type": "stream",
     "text": [
      "enter any string you want: this is a beautiful program \n"
     ]
    },
    {
     "name": "stdout",
     "output_type": "stream",
     "text": [
      "this : 1\n",
      "is : 1\n",
      "a : 1\n",
      "beautiful : 1\n",
      "program : 1\n"
     ]
    }
   ],
   "source": [
    "#Exercise-4\n",
    "# a program to count the number of words in a given text.\n",
    "\n",
    "string=input(\"enter any string you want:\")\n",
    "lst=string.split()# converts the string into list type.\n",
    "temp=[]\n",
    "for i in lst:\n",
    "    count=0\n",
    "    if i not in temp:\n",
    "        count=lst.count(i)\n",
    "        temp.append(i)\n",
    "        print(i,\":\",count)"
   ]
  },
  {
   "cell_type": "code",
   "execution_count": 6,
   "id": "496dda8c-ef6d-4162-bba2-786116a5a3a0",
   "metadata": {},
   "outputs": [
    {
     "name": "stdin",
     "output_type": "stream",
     "text": [
      "enter any word you want:  madam\n"
     ]
    },
    {
     "name": "stdout",
     "output_type": "stream",
     "text": [
      "it is a palindromic string\n"
     ]
    }
   ],
   "source": [
    "#Exercise-5\n",
    "# cheching whether the given string is palindrome or not:\n",
    "\n",
    "string=input(\"enter any word you want: \")\n",
    "if string == string[::-1]: #[::-1] will reverse the given string.\n",
    "    print(\"it is a palindromic string\")\n",
    "else:\n",
    "    print(\"it is not a palindromic string\")"
   ]
  },
  {
   "cell_type": "code",
   "execution_count": null,
   "id": "bed83bd4-2959-4cdf-ad08-5d1a5b242dc0",
   "metadata": {},
   "outputs": [],
   "source": []
  }
 ],
 "metadata": {
  "kernelspec": {
   "display_name": "Python 3 (ipykernel)",
   "language": "python",
   "name": "python3"
  },
  "language_info": {
   "codemirror_mode": {
    "name": "ipython",
    "version": 3
   },
   "file_extension": ".py",
   "mimetype": "text/x-python",
   "name": "python",
   "nbconvert_exporter": "python",
   "pygments_lexer": "ipython3",
   "version": "3.12.7"
  }
 },
 "nbformat": 4,
 "nbformat_minor": 5
}
