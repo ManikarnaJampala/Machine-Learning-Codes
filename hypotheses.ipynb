{
 "cells": [
  {
   "cell_type": "code",
   "execution_count": 9,
   "id": "6f2ed974-c327-4aa8-b704-1ff7d47a1aad",
   "metadata": {},
   "outputs": [],
   "source": [
    "import numpy as np\n",
    "import pandas as pd"
   ]
  },
  {
   "cell_type": "code",
   "execution_count": 19,
   "id": "bbe609fd-696e-4623-9197-9e3b215bc274",
   "metadata": {},
   "outputs": [],
   "source": [
    "# given sample of  restaurants are:\n",
    "n = 25\n",
    "\n",
    "# given mean weekly cost is:\n",
    "s_mean = 3050\n",
    "\n",
    "# given standard deviation is\n",
    "stand_dev = 25\n",
    "\n",
    "# given X value is :\n",
    "X = 600\n",
    "\n",
    "#The theoretical weekly operating cost model: \n",
    "w = 1000 + 5*X"
   ]
  },
  {
   "cell_type": "code",
   "execution_count": null,
   "id": "eb3c8878-a446-45ab-b617-bee53925058f",
   "metadata": {},
   "outputs": [],
   "source": [
    "# 1. State the Hypotheses statement:\n",
    "\n",
    "#The operating cost for a franchise in a week (W) is given by the equation W = $1,000 + $5X\n",
    "# since we know the X value ,we can calculate the W value\n",
    "\n",
    "w = 1000 + 5*X\n",
    "print(\"weekly price is: \",w)"
   ]
  },
  {
   "cell_type": "markdown",
   "id": "bfe201b8-70e9-4e4e-b81e-86b20b1033e7",
   "metadata": {},
   "source": [
    "# from the  above results we can find the hypotheses statements:\n",
    "#1. State the Hypotheses statement:\n",
    "\n",
    "Null Hypothesis (H₀):\n",
    "   The weekly operating cost model is still accurate. That is, the observed        mean weekly cost is equal to the theoretical weekly cost based on the model.\n",
    "   H₀: μ₀ = 1000 + 5X = 1000 + 5(600) = Rs. 4,000.\n",
    "\n",
    "alternative Hypothesis (h1):\n",
    "    the weekly operating cost model is not accurate anymore,and it is higher        than they mentioned weekly cost.\n",
    "    H1 : μ > 4,000.'''\n",
    "# this sets up a right- tailed hypothesis test to check if the observed mean weekly cost significantly exceeds the theoretical mean cost of rs.4000.\n",
    "\n"
   ]
  },
  {
   "cell_type": "code",
   "execution_count": 21,
   "id": "da95304b-cd81-497a-9360-8ae9ce08c9a1",
   "metadata": {},
   "outputs": [
    {
     "name": "stdout",
     "output_type": "stream",
     "text": [
      "-38.0\n"
     ]
    }
   ],
   "source": [
    "\n",
    "#2. Calculate the Test Statistic:\n",
    "    \n",
    "# calculating the z-stats.\n",
    "\n",
    "p_m = 4000\n",
    "s = 125\n",
    "z_stats = (s_mean - p_m)/(s/np.sqrt(n))\n",
    "print(z_stats)# the value is -38.\n",
    "\n",
    "# there for it indicates that sample mean is significantly lower than the theoretical mean weekly cost,not higher."
   ]
  },
  {
   "cell_type": "markdown",
   "id": "ecb55839-f0f1-46d8-827e-075340edd954",
   "metadata": {},
   "source": [
    "# 3. Determine the Critical Value:\n",
    "#Using the alpha level of 5% (α = 0.05), determine the critical value from the standard normal (Z) distribution table.   \n",
    "\n",
    "we know it is a right-tailed test,because the alternative hypothesis is > than 4000.\n",
    "we are looking for the critical z-value that leaves 5% in the upper tail\n",
    "that is    z_critical = 1.645 "
   ]
  },
  {
   "cell_type": "markdown",
   "id": "4ef1b101-98d0-4e04-9b6e-2375eba0a4e3",
   "metadata": {},
   "source": [
    "# 4. Make a Decision:\n",
    "    \n",
    "since the z_stats value is falling in the accepted region H0 is accepted and the H1 is rejected.\n"
   ]
  },
  {
   "cell_type": "markdown",
   "id": "911b22ec-28de-465e-8888-76f4b310d529",
   "metadata": {},
   "source": [
    "# 5. Conclusion:\n",
    "so from the decision we can conclude that,we fail to reject the null hypothesis. This means there is no strong evidence to support the restaurant owners' claim that their weekly operating costs are higher than the model suggests.\n",
    "\n"
   ]
  }
 ],
 "metadata": {
  "kernelspec": {
   "display_name": "Python 3 (ipykernel)",
   "language": "python",
   "name": "python3"
  },
  "language_info": {
   "codemirror_mode": {
    "name": "ipython",
    "version": 3
   },
   "file_extension": ".py",
   "mimetype": "text/x-python",
   "name": "python",
   "nbconvert_exporter": "python",
   "pygments_lexer": "ipython3",
   "version": "3.12.7"
  }
 },
 "nbformat": 4,
 "nbformat_minor": 5
}
