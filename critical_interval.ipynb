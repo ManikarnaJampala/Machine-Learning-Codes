{
 "cells": [
  {
   "cell_type": "code",
   "execution_count": 1,
   "id": "6f2ed974-c327-4aa8-b704-1ff7d47a1aad",
   "metadata": {},
   "outputs": [
    {
     "data": {
      "text/plain": [
       "array([1.13, 1.55, 1.43, 0.92, 1.25, 1.36, 1.32, 0.85, 1.07, 1.48, 1.2 ,\n",
       "       1.33, 1.18, 1.22, 1.29])"
      ]
     },
     "execution_count": 1,
     "metadata": {},
     "output_type": "execute_result"
    }
   ],
   "source": [
    "# given the  15 samples\n",
    "# storing the given data in a array\n",
    "\n",
    "# importing the numpy for creating the array.\n",
    "\n",
    "import numpy as np\n",
    "data = np.array([1.13, 1.55, 1.43, 0.92, 1.25, 1.36, 1.32, 0.85, 1.07, 1.48,1.20, 1.33, 1.18, 1.22, 1.29])\n",
    "data"
   ]
  },
  {
   "cell_type": "code",
   "execution_count": 2,
   "id": "bbe609fd-696e-4623-9197-9e3b215bc274",
   "metadata": {},
   "outputs": [],
   "source": [
    "# calulating the  mean and standard deviation for the given data.\n",
    "mean = np.mean(data)\n",
    "std_dev = np.std(data)"
   ]
  },
  {
   "cell_type": "code",
   "execution_count": 3,
   "id": "ed067515-ba73-4885-842c-735f4516aa95",
   "metadata": {},
   "outputs": [],
   "source": [
    "# calculating for the confidence 99%\n",
    "confidence = 0.99\n",
    "n = len(data) # gives the length of the data"
   ]
  },
  {
   "cell_type": "code",
   "execution_count": 4,
   "id": "0bee4777-54cd-49ac-bfc3-78ddedd53855",
   "metadata": {},
   "outputs": [
    {
     "data": {
      "text/plain": [
       "' here used t-critical value because\\n    sample size n = 15 which is less than 30\\n    The t-distribution adjusts for the extra uncertainty in estimating the population standard deviation.'"
      ]
     },
     "execution_count": 4,
     "metadata": {},
     "output_type": "execute_result"
    }
   ],
   "source": [
    "# then degree of freedom is.\n",
    "df = n-1\n",
    "\n",
    "from scipy import stats\n",
    "\n",
    "# t-critical value\n",
    "t_critical = stats.t.ppf((1 + confidence)/2,df)\n",
    "margin_error = t_critical * (std_dev / np.sqrt(n))\n",
    "\n",
    "''' here used t-critical value because\n",
    "    sample size n = 15 which is less than 30\n",
    "    The t-distribution adjusts for the extra uncertainty in estimating the population standard deviation.'''\n"
   ]
  },
  {
   "cell_type": "code",
   "execution_count": 5,
   "id": "da95304b-cd81-497a-9360-8ae9ce08c9a1",
   "metadata": {},
   "outputs": [
    {
     "name": "stdout",
     "output_type": "stream",
     "text": [
      "99% confidence interval lies between  1.095231668626123  and  1.3821016647072102\n"
     ]
    }
   ],
   "source": [
    "lower_bound = mean - margin_error\n",
    "upper_bound = mean + margin_error\n",
    "\n",
    "print(\"99% confidence interval lies between \",lower_bound,\" and \",upper_bound)\n"
   ]
  },
  {
   "cell_type": "code",
   "execution_count": 6,
   "id": "62fd648a-12a8-4b6e-8ee3-6fd52103173e",
   "metadata": {},
   "outputs": [],
   "source": [
    "# Build 99% Confidence Interval Using Known Population Standard Deviation\n",
    "\n",
    "# given population standard_deviation is 0.2\n",
    "\n",
    "std1 = 0.2\n",
    "\n",
    "# z-critical value\n",
    "\n",
    "z_critical = stats.norm.ppf((1+confidence)/2)\n",
    "\n",
    "standard_error = std1/np.sqrt(n)\n",
    "\n",
    "margine_error1 = z_critical *standard_error"
   ]
  },
  {
   "cell_type": "code",
   "execution_count": 8,
   "id": "ed5b26dd-dc8a-4794-ad7d-4a9a3f2eafdd",
   "metadata": {},
   "outputs": [
    {
     "name": "stdout",
     "output_type": "stream",
     "text": [
      "99% confidence interval lies between  1.1056514133957607  and  1.3716819199375725\n"
     ]
    }
   ],
   "source": [
    "#confidence intervals are:\n",
    "\n",
    "lower_bound1 = mean - margine_error1\n",
    "upper_bound1 = mean + margine_error1\n",
    "\n",
    "print(\"99% confidence interval lies between \",lower_bound1,\" and \",upper_bound1)\n"
   ]
  },
  {
   "cell_type": "code",
   "execution_count": null,
   "id": "3ad7a128-af37-4a1b-ba02-899507bf22f8",
   "metadata": {},
   "outputs": [],
   "source": []
  },
  {
   "cell_type": "code",
   "execution_count": null,
   "id": "93badd15-00c7-4501-ab3a-a0e16bddfb40",
   "metadata": {},
   "outputs": [],
   "source": []
  }
 ],
 "metadata": {
  "kernelspec": {
   "display_name": "Python 3 (ipykernel)",
   "language": "python",
   "name": "python3"
  },
  "language_info": {
   "codemirror_mode": {
    "name": "ipython",
    "version": 3
   },
   "file_extension": ".py",
   "mimetype": "text/x-python",
   "name": "python",
   "nbconvert_exporter": "python",
   "pygments_lexer": "ipython3",
   "version": "3.12.7"
  }
 },
 "nbformat": 4,
 "nbformat_minor": 5
}
