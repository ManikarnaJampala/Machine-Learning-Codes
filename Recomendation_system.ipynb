{
 "cells": [
  {
   "cell_type": "code",
   "execution_count": 43,
   "id": "67111a02-c904-4600-b16c-0f2a4125d2ee",
   "metadata": {},
   "outputs": [
    {
     "data": {
      "text/html": [
       "<div>\n",
       "<style scoped>\n",
       "    .dataframe tbody tr th:only-of-type {\n",
       "        vertical-align: middle;\n",
       "    }\n",
       "\n",
       "    .dataframe tbody tr th {\n",
       "        vertical-align: top;\n",
       "    }\n",
       "\n",
       "    .dataframe thead th {\n",
       "        text-align: right;\n",
       "    }\n",
       "</style>\n",
       "<table border=\"1\" class=\"dataframe\">\n",
       "  <thead>\n",
       "    <tr style=\"text-align: right;\">\n",
       "      <th></th>\n",
       "      <th>anime_id</th>\n",
       "      <th>name</th>\n",
       "      <th>genre</th>\n",
       "      <th>type</th>\n",
       "      <th>episodes</th>\n",
       "      <th>rating</th>\n",
       "      <th>members</th>\n",
       "    </tr>\n",
       "  </thead>\n",
       "  <tbody>\n",
       "    <tr>\n",
       "      <th>0</th>\n",
       "      <td>32281</td>\n",
       "      <td>Kimi no Na wa.</td>\n",
       "      <td>Drama, Romance, School, Supernatural</td>\n",
       "      <td>Movie</td>\n",
       "      <td>1</td>\n",
       "      <td>9.37</td>\n",
       "      <td>200630</td>\n",
       "    </tr>\n",
       "    <tr>\n",
       "      <th>1</th>\n",
       "      <td>5114</td>\n",
       "      <td>Fullmetal Alchemist: Brotherhood</td>\n",
       "      <td>Action, Adventure, Drama, Fantasy, Magic, Mili...</td>\n",
       "      <td>TV</td>\n",
       "      <td>64</td>\n",
       "      <td>9.26</td>\n",
       "      <td>793665</td>\n",
       "    </tr>\n",
       "    <tr>\n",
       "      <th>2</th>\n",
       "      <td>28977</td>\n",
       "      <td>Gintama°</td>\n",
       "      <td>Action, Comedy, Historical, Parody, Samurai, S...</td>\n",
       "      <td>TV</td>\n",
       "      <td>51</td>\n",
       "      <td>9.25</td>\n",
       "      <td>114262</td>\n",
       "    </tr>\n",
       "    <tr>\n",
       "      <th>3</th>\n",
       "      <td>9253</td>\n",
       "      <td>Steins;Gate</td>\n",
       "      <td>Sci-Fi, Thriller</td>\n",
       "      <td>TV</td>\n",
       "      <td>24</td>\n",
       "      <td>9.17</td>\n",
       "      <td>673572</td>\n",
       "    </tr>\n",
       "    <tr>\n",
       "      <th>4</th>\n",
       "      <td>9969</td>\n",
       "      <td>Gintama&amp;#039;</td>\n",
       "      <td>Action, Comedy, Historical, Parody, Samurai, S...</td>\n",
       "      <td>TV</td>\n",
       "      <td>51</td>\n",
       "      <td>9.16</td>\n",
       "      <td>151266</td>\n",
       "    </tr>\n",
       "  </tbody>\n",
       "</table>\n",
       "</div>"
      ],
      "text/plain": [
       "   anime_id                              name  \\\n",
       "0     32281                    Kimi no Na wa.   \n",
       "1      5114  Fullmetal Alchemist: Brotherhood   \n",
       "2     28977                          Gintama°   \n",
       "3      9253                       Steins;Gate   \n",
       "4      9969                     Gintama&#039;   \n",
       "\n",
       "                                               genre   type episodes  rating  \\\n",
       "0               Drama, Romance, School, Supernatural  Movie        1    9.37   \n",
       "1  Action, Adventure, Drama, Fantasy, Magic, Mili...     TV       64    9.26   \n",
       "2  Action, Comedy, Historical, Parody, Samurai, S...     TV       51    9.25   \n",
       "3                                   Sci-Fi, Thriller     TV       24    9.17   \n",
       "4  Action, Comedy, Historical, Parody, Samurai, S...     TV       51    9.16   \n",
       "\n",
       "   members  \n",
       "0   200630  \n",
       "1   793665  \n",
       "2   114262  \n",
       "3   673572  \n",
       "4   151266  "
      ]
     },
     "execution_count": 43,
     "metadata": {},
     "output_type": "execute_result"
    }
   ],
   "source": [
    "import pandas as pd\n",
    "import numpy as np\n",
    "df = pd.read_csv(\"D:\\\\Excelr_assignments\\\\Recommendation System\\\\Recommendation System\\\\anime.csv\")\n",
    "df.head()"
   ]
  },
  {
   "cell_type": "code",
   "execution_count": 44,
   "id": "c1dc5604-40c2-4113-baad-8a27d73450e1",
   "metadata": {},
   "outputs": [
    {
     "data": {
      "text/plain": [
       "(12294, 7)"
      ]
     },
     "execution_count": 44,
     "metadata": {},
     "output_type": "execute_result"
    }
   ],
   "source": [
    "df.shape"
   ]
  },
  {
   "cell_type": "code",
   "execution_count": 45,
   "id": "1fd6d998-c4fa-4b32-84ca-0d26f7531406",
   "metadata": {},
   "outputs": [
    {
     "name": "stdout",
     "output_type": "stream",
     "text": [
      "<class 'pandas.core.frame.DataFrame'>\n",
      "RangeIndex: 12294 entries, 0 to 12293\n",
      "Data columns (total 7 columns):\n",
      " #   Column    Non-Null Count  Dtype  \n",
      "---  ------    --------------  -----  \n",
      " 0   anime_id  12294 non-null  int64  \n",
      " 1   name      12294 non-null  object \n",
      " 2   genre     12232 non-null  object \n",
      " 3   type      12269 non-null  object \n",
      " 4   episodes  12294 non-null  object \n",
      " 5   rating    12064 non-null  float64\n",
      " 6   members   12294 non-null  int64  \n",
      "dtypes: float64(1), int64(2), object(4)\n",
      "memory usage: 672.5+ KB\n"
     ]
    }
   ],
   "source": [
    "df.info()"
   ]
  },
  {
   "cell_type": "code",
   "execution_count": 46,
   "id": "38c75952-9441-44b0-b51c-28511eb2729d",
   "metadata": {},
   "outputs": [
    {
     "data": {
      "text/plain": [
       "anime_id      0\n",
       "name          0\n",
       "genre        62\n",
       "type         25\n",
       "episodes      0\n",
       "rating      230\n",
       "members       0\n",
       "dtype: int64"
      ]
     },
     "execution_count": 46,
     "metadata": {},
     "output_type": "execute_result"
    }
   ],
   "source": [
    "df.isnull().sum()"
   ]
  },
  {
   "cell_type": "code",
   "execution_count": 70,
   "id": "64671639-998e-4e67-9aa8-75087370a048",
   "metadata": {},
   "outputs": [
    {
     "data": {
      "text/plain": [
       "10156"
      ]
     },
     "execution_count": 70,
     "metadata": {},
     "output_type": "execute_result"
    }
   ],
   "source": [
    "len(df)"
   ]
  },
  {
   "cell_type": "code",
   "execution_count": 72,
   "id": "b877fa6a-4254-4884-9555-dd3f086ff51f",
   "metadata": {},
   "outputs": [
    {
     "data": {
      "text/plain": [
       "10156"
      ]
     },
     "execution_count": 72,
     "metadata": {},
     "output_type": "execute_result"
    }
   ],
   "source": [
    "len(df.anime_id.unique())"
   ]
  },
  {
   "cell_type": "code",
   "execution_count": 47,
   "id": "a91bbbd9-8f48-4068-9b9a-8683b656883f",
   "metadata": {},
   "outputs": [
    {
     "data": {
      "text/plain": [
       "0    Hentai\n",
       "Name: genre, dtype: object"
      ]
     },
     "execution_count": 47,
     "metadata": {},
     "output_type": "execute_result"
    }
   ],
   "source": [
    "df[\"genre\"].mode()"
   ]
  },
  {
   "cell_type": "code",
   "execution_count": 48,
   "id": "ff42dbf5-1d9c-4809-8f77-4b284520db95",
   "metadata": {},
   "outputs": [
    {
     "data": {
      "text/plain": [
       "0    TV\n",
       "Name: type, dtype: object"
      ]
     },
     "execution_count": 48,
     "metadata": {},
     "output_type": "execute_result"
    }
   ],
   "source": [
    "df[\"type\"].mode()"
   ]
  },
  {
   "cell_type": "code",
   "execution_count": 49,
   "id": "d0bb1c50-354f-4104-b3c0-ef391ce1adaa",
   "metadata": {},
   "outputs": [
    {
     "data": {
      "image/png": "[encoded data removed]",
      "text/plain": [
       "<Figure size 640x480 with 1 Axes>"
      ]
     },
     "metadata": {},
     "output_type": "display_data"
    }
   ],
   "source": [
    "import matplotlib.pyplot as plt\n",
    "import seaborn as sns\n",
    "\n",
    "sns.boxplot(df[\"rating\"])\n",
    "plt.show()"
   ]
  },
  {
   "cell_type": "code",
   "execution_count": 69,
   "id": "cd0eaf38-b49e-4c9e-9459-7742774eefaa",
   "metadata": {},
   "outputs": [
    {
     "data": {
      "text/plain": [
       "rating\n",
       "6.57    268\n",
       "6.00    138\n",
       "7.00     94\n",
       "6.50     84\n",
       "6.25     82\n",
       "       ... \n",
       "8.27      1\n",
       "8.08      1\n",
       "8.02      1\n",
       "4.19      1\n",
       "8.69      1\n",
       "Name: count, Length: 442, dtype: int64"
      ]
     },
     "execution_count": 69,
     "metadata": {},
     "output_type": "execute_result"
    }
   ],
   "source": [
    "df['rating'].value_counts()"
   ]
  },
  {
   "cell_type": "code",
   "execution_count": 68,
   "id": "aca6cefe-dbe6-4d93-b489-52137c32dee6",
   "metadata": {},
   "outputs": [
    {
     "data": {
      "text/plain": [
       "<Axes: >"
      ]
     },
     "execution_count": 68,
     "metadata": {},
     "output_type": "execute_result"
    },
    {
     "data": {
      "image/png": "[encoded data removed]",
      "text/plain": [
       "<Figure size 640x480 with 1 Axes>"
      ]
     },
     "metadata": {},
     "output_type": "display_data"
    }
   ],
   "source": [
    "df['rating'].hist()\n",
    "\n",
    "# we can see the skewedness in the rating, that means there are outlayers in the rating column:\n"
   ]
  },
  {
   "cell_type": "code",
   "execution_count": 51,
   "id": "db66759b-f19e-4787-b60b-38f61ff4dffb",
   "metadata": {},
   "outputs": [
    {
     "data": {
      "text/plain": [
       "<Axes: ylabel='members'>"
      ]
     },
     "execution_count": 51,
     "metadata": {},
     "output_type": "execute_result"
    },
    {
     "data": {
      "image/png": "[encoded data removed]",
      "text/plain": [
       "<Figure size 640x480 with 1 Axes>"
      ]
     },
     "metadata": {},
     "output_type": "display_data"
    }
   ],
   "source": [
    "sns.boxplot(df[\"members\"])"
   ]
  },
  {
   "cell_type": "code",
   "execution_count": 52,
   "id": "ad9c5274-8edf-4d4b-9521-25e63b17c6a5",
   "metadata": {},
   "outputs": [
    {
     "name": "stderr",
     "output_type": "stream",
     "text": [
      "C:\\Users\\dell\\AppData\\Local\\Temp\\ipykernel_16112\\1166790487.py:3: FutureWarning: A value is trying to be set on a copy of a DataFrame or Series through chained assignment using an inplace method.\n",
      "The behavior will change in pandas 3.0. This inplace method will never work because the intermediate object on which we are setting values always behaves as a copy.\n",
      "\n",
      "For example, when doing 'df[col].method(value, inplace=True)', try using 'df.method({col: value}, inplace=True)' or df[col] = df[col].method(value) instead, to perform the operation inplace on the original object.\n",
      "\n",
      "\n",
      "  df[\"genre\"].fillna(df[\"genre\"].mode()[0], inplace=True)\n",
      "C:\\Users\\dell\\AppData\\Local\\Temp\\ipykernel_16112\\1166790487.py:4: FutureWarning: A value is trying to be set on a copy of a DataFrame or Series through chained assignment using an inplace method.\n",
      "The behavior will change in pandas 3.0. This inplace method will never work because the intermediate object on which we are setting values always behaves as a copy.\n",
      "\n",
      "For example, when doing 'df[col].method(value, inplace=True)', try using 'df.method({col: value}, inplace=True)' or df[col] = df[col].method(value) instead, to perform the operation inplace on the original object.\n",
      "\n",
      "\n",
      "  df[\"type\"].fillna(df[\"type\"].mode()[0], inplace=True)\n",
      "C:\\Users\\dell\\AppData\\Local\\Temp\\ipykernel_16112\\1166790487.py:5: FutureWarning: A value is trying to be set on a copy of a DataFrame or Series through chained assignment using an inplace method.\n",
      "The behavior will change in pandas 3.0. This inplace method will never work because the intermediate object on which we are setting values always behaves as a copy.\n",
      "\n",
      "For example, when doing 'df[col].method(value, inplace=True)', try using 'df.method({col: value}, inplace=True)' or df[col] = df[col].method(value) instead, to perform the operation inplace on the original object.\n",
      "\n",
      "\n",
      "  df[\"rating\"].fillna(df[\"rating\"].median(), inplace=True)\n"
     ]
    }
   ],
   "source": [
    "# filling the missing values in the  dataset : \n",
    "\n",
    "df[\"genre\"].fillna(df[\"genre\"].mode()[0], inplace=True)\n",
    "df[\"type\"].fillna(df[\"type\"].mode()[0], inplace=True)\n",
    "df[\"rating\"].fillna(df[\"rating\"].median(), inplace=True)\n"
   ]
  },
  {
   "cell_type": "code",
   "execution_count": 53,
   "id": "4b515acd-2542-47f5-a39e-55f1edc81051",
   "metadata": {},
   "outputs": [
    {
     "data": {
      "text/plain": [
       "anime_id    0\n",
       "name        0\n",
       "genre       0\n",
       "type        0\n",
       "episodes    0\n",
       "rating      0\n",
       "members     0\n",
       "dtype: int64"
      ]
     },
     "execution_count": 53,
     "metadata": {},
     "output_type": "execute_result"
    }
   ],
   "source": [
    "df.isnull().sum()"
   ]
  },
  {
   "cell_type": "code",
   "execution_count": 54,
   "id": "34088998-ba2a-49ee-8325-6582e3b1b914",
   "metadata": {},
   "outputs": [
    {
     "data": {
      "text/html": [
       "<div>\n",
       "<style scoped>\n",
       "    .dataframe tbody tr th:only-of-type {\n",
       "        vertical-align: middle;\n",
       "    }\n",
       "\n",
       "    .dataframe tbody tr th {\n",
       "        vertical-align: top;\n",
       "    }\n",
       "\n",
       "    .dataframe thead th {\n",
       "        text-align: right;\n",
       "    }\n",
       "</style>\n",
       "<table border=\"1\" class=\"dataframe\">\n",
       "  <thead>\n",
       "    <tr style=\"text-align: right;\">\n",
       "      <th></th>\n",
       "      <th>rating</th>\n",
       "      <th>members</th>\n",
       "    </tr>\n",
       "  </thead>\n",
       "  <tbody>\n",
       "    <tr>\n",
       "      <th>0</th>\n",
       "      <td>9.37</td>\n",
       "      <td>200630</td>\n",
       "    </tr>\n",
       "    <tr>\n",
       "      <th>1</th>\n",
       "      <td>9.26</td>\n",
       "      <td>793665</td>\n",
       "    </tr>\n",
       "    <tr>\n",
       "      <th>2</th>\n",
       "      <td>9.25</td>\n",
       "      <td>114262</td>\n",
       "    </tr>\n",
       "    <tr>\n",
       "      <th>3</th>\n",
       "      <td>9.17</td>\n",
       "      <td>673572</td>\n",
       "    </tr>\n",
       "    <tr>\n",
       "      <th>4</th>\n",
       "      <td>9.16</td>\n",
       "      <td>151266</td>\n",
       "    </tr>\n",
       "    <tr>\n",
       "      <th>...</th>\n",
       "      <td>...</td>\n",
       "      <td>...</td>\n",
       "    </tr>\n",
       "    <tr>\n",
       "      <th>12289</th>\n",
       "      <td>4.15</td>\n",
       "      <td>211</td>\n",
       "    </tr>\n",
       "    <tr>\n",
       "      <th>12290</th>\n",
       "      <td>4.28</td>\n",
       "      <td>183</td>\n",
       "    </tr>\n",
       "    <tr>\n",
       "      <th>12291</th>\n",
       "      <td>4.88</td>\n",
       "      <td>219</td>\n",
       "    </tr>\n",
       "    <tr>\n",
       "      <th>12292</th>\n",
       "      <td>4.98</td>\n",
       "      <td>175</td>\n",
       "    </tr>\n",
       "    <tr>\n",
       "      <th>12293</th>\n",
       "      <td>5.46</td>\n",
       "      <td>142</td>\n",
       "    </tr>\n",
       "  </tbody>\n",
       "</table>\n",
       "<p>12294 rows × 2 columns</p>\n",
       "</div>"
      ],
      "text/plain": [
       "       rating  members\n",
       "0        9.37   200630\n",
       "1        9.26   793665\n",
       "2        9.25   114262\n",
       "3        9.17   673572\n",
       "4        9.16   151266\n",
       "...       ...      ...\n",
       "12289    4.15      211\n",
       "12290    4.28      183\n",
       "12291    4.88      219\n",
       "12292    4.98      175\n",
       "12293    5.46      142\n",
       "\n",
       "[12294 rows x 2 columns]"
      ]
     },
     "execution_count": 54,
     "metadata": {},
     "output_type": "execute_result"
    }
   ],
   "source": [
    "df[[\"rating\",\"members\"]]"
   ]
  },
  {
   "cell_type": "code",
   "execution_count": 55,
   "id": "2775ec59-de11-4a0a-b8b9-769f8d0ddf34",
   "metadata": {},
   "outputs": [],
   "source": [
    "# removing the outlayers from the data set:\n",
    "\n",
    "q1 = df[[\"rating\",\"members\"]].quantile(0.25)\n",
    "q3 = df[[\"rating\",\"members\"]].quantile(0.75)\n",
    "iqr = q3-q1\n",
    "df = df[\n",
    "        ~((df[[\"rating\",\"members\"]].lt(q1 - 1.5 * iqr)) | (df[[\"rating\",\"members\"]].gt(q3 + 1.5 * iqr))).any(axis=1)\n",
    "]"
   ]
  },
  {
   "cell_type": "code",
   "execution_count": 56,
   "id": "08632ad8-0825-4040-a673-82571d72c206",
   "metadata": {},
   "outputs": [],
   "source": [
    "df.reset_index(drop=True, inplace=True)\n"
   ]
  },
  {
   "cell_type": "code",
   "execution_count": 57,
   "id": "411a17e7-dd8b-4ae8-a466-0c0899f4fb0c",
   "metadata": {},
   "outputs": [
    {
     "data": {
      "text/plain": [
       "<Axes: ylabel='rating'>"
      ]
     },
     "execution_count": 57,
     "metadata": {},
     "output_type": "execute_result"
    },
    {
     "data": {
      "image/png": "[encoded data removed]",
      "text/plain": [
       "<Figure size 640x480 with 1 Axes>"
      ]
     },
     "metadata": {},
     "output_type": "display_data"
    }
   ],
   "source": [
    "sns.boxplot(df[\"rating\"])"
   ]
  },
  {
   "cell_type": "code",
   "execution_count": 58,
   "id": "ad722f45-2cd0-4e4e-bdff-b6bc4fa47795",
   "metadata": {},
   "outputs": [
    {
     "data": {
      "text/plain": [
       "<Axes: ylabel='members'>"
      ]
     },
     "execution_count": 58,
     "metadata": {},
     "output_type": "execute_result"
    },
    {
     "data": {
      "image/png": "[encoded data removed]",
      "text/plain": [
       "<Figure size 640x480 with 1 Axes>"
      ]
     },
     "metadata": {},
     "output_type": "display_data"
    }
   ],
   "source": [
    "sns.boxplot(df[\"members\"])"
   ]
  },
  {
   "cell_type": "code",
   "execution_count": 59,
   "id": "9cc9022b-8db0-4ff4-adbc-1e9a7f7d10b2",
   "metadata": {},
   "outputs": [
    {
     "name": "stdout",
     "output_type": "stream",
     "text": [
      "<class 'pandas.core.frame.DataFrame'>\n",
      "RangeIndex: 10156 entries, 0 to 10155\n",
      "Data columns (total 7 columns):\n",
      " #   Column    Non-Null Count  Dtype  \n",
      "---  ------    --------------  -----  \n",
      " 0   anime_id  10156 non-null  int64  \n",
      " 1   name      10156 non-null  object \n",
      " 2   genre     10156 non-null  object \n",
      " 3   type      10156 non-null  object \n",
      " 4   episodes  10156 non-null  object \n",
      " 5   rating    10156 non-null  float64\n",
      " 6   members   10156 non-null  int64  \n",
      "dtypes: float64(1), int64(2), object(4)\n",
      "memory usage: 555.5+ KB\n"
     ]
    }
   ],
   "source": [
    "df.info()"
   ]
  },
  {
   "cell_type": "code",
   "execution_count": 60,
   "id": "359dbd6f-ea05-490b-a3a9-63fb41e39387",
   "metadata": {},
   "outputs": [
    {
     "data": {
      "text/html": [
       "<div>\n",
       "<style scoped>\n",
       "    .dataframe tbody tr th:only-of-type {\n",
       "        vertical-align: middle;\n",
       "    }\n",
       "\n",
       "    .dataframe tbody tr th {\n",
       "        vertical-align: top;\n",
       "    }\n",
       "\n",
       "    .dataframe thead th {\n",
       "        text-align: right;\n",
       "    }\n",
       "</style>\n",
       "<table border=\"1\" class=\"dataframe\">\n",
       "  <thead>\n",
       "    <tr style=\"text-align: right;\">\n",
       "      <th></th>\n",
       "      <th>anime_id</th>\n",
       "      <th>name</th>\n",
       "      <th>genre</th>\n",
       "      <th>type</th>\n",
       "      <th>episodes</th>\n",
       "      <th>rating</th>\n",
       "      <th>members</th>\n",
       "    </tr>\n",
       "  </thead>\n",
       "  <tbody>\n",
       "    <tr>\n",
       "      <th>0</th>\n",
       "      <td>32366</td>\n",
       "      <td>Gintama°: Aizome Kaori-hen</td>\n",
       "      <td>1725</td>\n",
       "      <td>3</td>\n",
       "      <td>61</td>\n",
       "      <td>8.69</td>\n",
       "      <td>16947</td>\n",
       "    </tr>\n",
       "    <tr>\n",
       "      <th>1</th>\n",
       "      <td>21899</td>\n",
       "      <td>Gintama: Yorinuki Gintama-san on Theater 2D</td>\n",
       "      <td>407</td>\n",
       "      <td>0</td>\n",
       "      <td>61</td>\n",
       "      <td>8.60</td>\n",
       "      <td>11104</td>\n",
       "    </tr>\n",
       "    <tr>\n",
       "      <th>2</th>\n",
       "      <td>11917</td>\n",
       "      <td>Major: World Series</td>\n",
       "      <td>1416</td>\n",
       "      <td>3</td>\n",
       "      <td>61</td>\n",
       "      <td>8.50</td>\n",
       "      <td>13405</td>\n",
       "    </tr>\n",
       "    <tr>\n",
       "      <th>3</th>\n",
       "      <td>2921</td>\n",
       "      <td>Ashita no Joe 2</td>\n",
       "      <td>2160</td>\n",
       "      <td>5</td>\n",
       "      <td>107</td>\n",
       "      <td>8.48</td>\n",
       "      <td>6259</td>\n",
       "    </tr>\n",
       "    <tr>\n",
       "      <th>4</th>\n",
       "      <td>2559</td>\n",
       "      <td>Romeo no Aoi Sora</td>\n",
       "      <td>1130</td>\n",
       "      <td>5</td>\n",
       "      <td>88</td>\n",
       "      <td>8.47</td>\n",
       "      <td>15074</td>\n",
       "    </tr>\n",
       "  </tbody>\n",
       "</table>\n",
       "</div>"
      ],
      "text/plain": [
       "   anime_id                                         name  genre  type  \\\n",
       "0     32366                   Gintama°: Aizome Kaori-hen   1725     3   \n",
       "1     21899  Gintama: Yorinuki Gintama-san on Theater 2D    407     0   \n",
       "2     11917                          Major: World Series   1416     3   \n",
       "3      2921                              Ashita no Joe 2   2160     5   \n",
       "4      2559                            Romeo no Aoi Sora   1130     5   \n",
       "\n",
       "   episodes  rating  members  \n",
       "0        61    8.69    16947  \n",
       "1        61    8.60    11104  \n",
       "2        61    8.50    13405  \n",
       "3       107    8.48     6259  \n",
       "4        88    8.47    15074  "
      ]
     },
     "execution_count": 60,
     "metadata": {},
     "output_type": "execute_result"
    }
   ],
   "source": [
    "from sklearn.preprocessing import LabelEncoder\n",
    "le = LabelEncoder()\n",
    "\n",
    "columns = [\"genre\",\"type\",\"episodes\"]\n",
    "for col in columns:\n",
    "    df[col] = le.fit_transform(df[col])\n",
    "\n",
    "df.head()\n"
   ]
  },
  {
   "cell_type": "code",
   "execution_count": 61,
   "id": "969ad341-68e4-4290-bd17-f651ea9a6038",
   "metadata": {},
   "outputs": [
    {
     "name": "stdout",
     "output_type": "stream",
     "text": [
      "   genre  type  rating   members\n",
      "0   1725     3   0.938  0.729787\n",
      "1    407     0   0.920  0.478096\n",
      "2   1416     3   0.900  0.577213\n",
      "3   2160     5   0.896  0.269395\n",
      "4   1130     5   0.894  0.649106\n"
     ]
    }
   ],
   "source": [
    "# Feature Extraction:\n",
    "\n",
    "selected_features = df[[\"genre\", \"type\", \"rating\", \"members\"]].copy()\n",
    "\n",
    "# Step 3: Normalize numerical features.\n",
    "from sklearn.preprocessing import MinMaxScaler\n",
    "\n",
    "numerical_cols = [\"rating\", \"members\"]\n",
    "scaler = MinMaxScaler()\n",
    "selected_features[numerical_cols] = scaler.fit_transform(selected_features[numerical_cols])\n",
    "\n",
    "# Final feature matrix ready for similarity computation\n",
    "print(selected_features.head())\n"
   ]
  },
  {
   "cell_type": "code",
   "execution_count": 62,
   "id": "7811722e-a13c-40e4-92ca-107a2cd07073",
   "metadata": {},
   "outputs": [
    {
     "data": {
      "text/plain": [
       "(10156, 4)"
      ]
     },
     "execution_count": 62,
     "metadata": {},
     "output_type": "execute_result"
    }
   ],
   "source": [
    "selected_features.shape"
   ]
  },
  {
   "cell_type": "code",
   "execution_count": 63,
   "id": "52d9ea2d-00d7-4f86-a86a-003aa25f9d31",
   "metadata": {},
   "outputs": [
    {
     "name": "stdout",
     "output_type": "stream",
     "text": [
      "Recommendations for Anime: Detective Conan Movie 20: The Darkest Nightmare\n",
      "\n",
      "Buki yo Saraba (Similarity: 1.00)\n",
      "Tenjou-jin to Akuto-jin Saigo no Tatakai (Similarity: 1.00)\n",
      "Lupin III: Pilot Film (Similarity: 1.00)\n",
      "Transformers the Movie (Similarity: 1.00)\n",
      "Windaria (Similarity: 1.00)\n"
     ]
    }
   ],
   "source": [
    "# Recommendation System:\n",
    "\n",
    "from sklearn.metrics.pairwise import cosine_similarity\n",
    "cosine_sim = cosine_similarity(selected_features)\n",
    "target_index = 10\n",
    "similarity_scores = list(enumerate(cosine_sim[target_index]))\n",
    "similar_anime = sorted(similarity_scores, key=lambda x: x[1], reverse=True)\n",
    "similar_anime = [x for x in similar_anime if x[0] != target_index]\n",
    "threshold = 0.4\n",
    "top_n = 5\n",
    "top_recommendations = [x for x in similar_anime if x[1] >= threshold][:top_n]\n",
    "\n",
    "# Step 7: Display results\n",
    "print(f\"Recommendations for Anime: {df.loc[target_index, 'name']}\\n\")\n",
    "for idx, score in top_recommendations:\n",
    "    print(f\"{df.loc[idx, 'name']} (Similarity: {score:.2f})\") \n"
   ]
  },
  {
   "cell_type": "code",
   "execution_count": 65,
   "id": "8e389daf-cc14-4c36-b64c-b847524f7cac",
   "metadata": {},
   "outputs": [],
   "source": [
    "from sklearn.metrics.pairwise import cosine_similarity\n",
    "from sklearn.model_selection import train_test_split\n",
    "\n",
    "# Split data (80% train, 20% test)\n",
    "train_df, test_df, train_feat, test_feat = train_test_split(\n",
    "    df, selected_features, test_size=0.2, random_state=42\n",
    ")"
   ]
  },
  {
   "cell_type": "code",
   "execution_count": 66,
   "id": "2586b64e-4283-46e5-9b65-efa2ac78da1d",
   "metadata": {},
   "outputs": [],
   "source": [
    "# Cosine similarity on training data\n",
    "cos_sim = cosine_similarity(train_feat)\n",
    "\n",
    "# Evaluate recommendations\n",
    "correct = 0\n",
    "for i in range(len(test_df)):\n",
    "    test_vec = test_feat.iloc[i].values.reshape(1, -1)\n",
    "    sims = cosine_similarity(test_vec, train_feat).flatten()\n",
    "    top_indices = sims.argsort()[::-1][:5]\n",
    "    top_genres = train_df.iloc[top_indices][\"genre\"].values\n",
    "    if test_df.iloc[i][\"genre\"] in top_genres:\n",
    "        correct += 1"
   ]
  },
  {
   "cell_type": "code",
   "execution_count": 67,
   "id": "9ec6303a-d4e9-40a8-a56e-f17907bbfcb8",
   "metadata": {},
   "outputs": [
    {
     "name": "stdout",
     "output_type": "stream",
     "text": [
      "Precision: 0.42\n",
      "Recall:    0.42\n",
      "F1 Score:  0.42\n"
     ]
    }
   ],
   "source": [
    "# Metrics\n",
    "total = len(test_df)\n",
    "precision = recall = correct / total\n",
    "f1 = 2 * precision * recall / (precision + recall + 1e-10)\n",
    "\n",
    "print(f\"Precision: {precision:.2f}\")\n",
    "print(f\"Recall:    {recall:.2f}\")\n",
    "print(f\"F1 Score:  {f1:.2f}\")\n"
   ]
  },
  {
   "cell_type": "markdown",
   "id": "0893c341-6616-414a-b2c2-25a8f72fc41d",
   "metadata": {},
   "source": [
    "1.\n",
    "-->User-Based Collaborative Filtering:\n",
    "Recommends items to a user based on the preferences of similar users.\n",
    "It finds users with similar tastes and suggests items those users liked.\n",
    "For example: If User A and User B both liked anime X and Y, and User B also liked anime Z, then Z is recommended to User A.\n",
    "\n",
    "-->Item-Based Collaborative Filtering:\n",
    "Recommends items that are similar to the items the user has already liked.\n",
    "It focuses on item similarity based on user interaction history.\n",
    "For example: If many users who liked anime X also liked anime Y, then Y is recommended to users who liked X.\n",
    "\n",
    "\n",
    "2.Collaborative Filtering is a recommendation technique that makes predictions about a user's interests by collecting preferences from many users.\n",
    "\n",
    "How it works:\n",
    "It assumes that if users agree in the past, they'll likely agree again.\n",
    "Uses a user-item interaction matrix (ratings, likes, views, etc.)\n",
    "Based on similarity (using cosine similarity, Pearson correlation, etc.)\n",
    "\n",
    "Types:\n",
    "User-based Collaborative Filtering\n",
    "Item-based Collaborative Filtering\n",
    "Model-based Collaborative Filtering (e.g., using matrix factorization like SVD)\n",
    "\n"
   ]
  }
 ],
 "metadata": {
  "kernelspec": {
   "display_name": "Python 3 (ipykernel)",
   "language": "python",
   "name": "python3"
  },
  "language_info": {
   "codemirror_mode": {
    "name": "ipython",
    "version": 3
   },
   "file_extension": ".py",
   "mimetype": "text/x-python",
   "name": "python",
   "nbconvert_exporter": "python",
   "pygments_lexer": "ipython3",
   "version": "3.12.7"
  }
 },
 "nbformat": 4,
 "nbformat_minor": 5
}
