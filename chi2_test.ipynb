{
 "cells": [
  {
   "cell_type": "code",
   "execution_count": 9,
   "id": "e05c91b0-4101-4f54-a2e9-684744962300",
   "metadata": {},
   "outputs": [
    {
     "data": {
      "text/html": [
       "<div>\n",
       "<style scoped>\n",
       "    .dataframe tbody tr th:only-of-type {\n",
       "        vertical-align: middle;\n",
       "    }\n",
       "\n",
       "    .dataframe tbody tr th {\n",
       "        vertical-align: top;\n",
       "    }\n",
       "\n",
       "    .dataframe thead th {\n",
       "        text-align: right;\n",
       "    }\n",
       "</style>\n",
       "<table border=\"1\" class=\"dataframe\">\n",
       "  <thead>\n",
       "    <tr style=\"text-align: right;\">\n",
       "      <th></th>\n",
       "      <th>smart thermostat</th>\n",
       "      <th>smart light</th>\n",
       "    </tr>\n",
       "  </thead>\n",
       "  <tbody>\n",
       "    <tr>\n",
       "      <th>0</th>\n",
       "      <td>50</td>\n",
       "      <td>70</td>\n",
       "    </tr>\n",
       "    <tr>\n",
       "      <th>1</th>\n",
       "      <td>80</td>\n",
       "      <td>100</td>\n",
       "    </tr>\n",
       "    <tr>\n",
       "      <th>2</th>\n",
       "      <td>60</td>\n",
       "      <td>90</td>\n",
       "    </tr>\n",
       "    <tr>\n",
       "      <th>3</th>\n",
       "      <td>30</td>\n",
       "      <td>50</td>\n",
       "    </tr>\n",
       "    <tr>\n",
       "      <th>4</th>\n",
       "      <td>20</td>\n",
       "      <td>50</td>\n",
       "    </tr>\n",
       "  </tbody>\n",
       "</table>\n",
       "</div>"
      ],
      "text/plain": [
       "   smart thermostat  smart light\n",
       "0                50           70\n",
       "1                80          100\n",
       "2                60           90\n",
       "3                30           50\n",
       "4                20           50"
      ]
     },
     "execution_count": 9,
     "metadata": {},
     "output_type": "execute_result"
    }
   ],
   "source": [
    "import numpy as np\n",
    "import pandas as pd\n",
    "\n",
    "# from the given table observed data is:\n",
    "observed = np.array([\n",
    "    [50, 70],   \n",
    "    [80, 100],  \n",
    "    [60, 90],   \n",
    "    [30, 50],   \n",
    "    [20, 50]    \n",
    "])\n",
    "\n",
    "observed\n",
    "\n",
    "# so converting the observed values into the data frame so that operations can done easily.\n",
    "df = pd.DataFrame(observed)\n",
    "df.columns=[\"smart thermostat\",\"smart light\"] # giving the columns names:\n",
    "df"
   ]
  },
  {
   "cell_type": "markdown",
   "id": "6df82282-476c-45d2-ba62-1e6993809794",
   "metadata": {},
   "source": [
    " # 1 hypotheses\n",
    "  # 1.null hypotheses\n",
    " H0 : both the 'smart thermostat' and 'smart light' are independent to each other.\n",
    "\n",
    " # 2.alternative hypotheses\n",
    " H1 : both the  'smart thermostat' and 'smart light' are depended on each other."
   ]
  },
  {
   "cell_type": "code",
   "execution_count": 26,
   "id": "dc8a4782-268c-4505-8da0-f0f83a29ccdb",
   "metadata": {},
   "outputs": [
    {
     "name": "stdout",
     "output_type": "stream",
     "text": [
      "Chi-Square Statistic: 5.638227513227513\n",
      "P-value: 0.22784371130697179\n",
      "Degrees of Freedom: 4\n"
     ]
    },
    {
     "name": "stderr",
     "output_type": "stream",
     "text": [
      "C:\\Users\\dell\\anaconda3.1\\Lib\\site-packages\\researchpy\\crosstab.py:146: FutureWarning: Setting an item of incompatible dtype is deprecated and will raise an error in a future version of pandas. Value 'Pearson Chi-square ( 12.0) = ' has dtype incompatible with float64, please explicitly cast to a compatible dtype first.\n",
      "  table.iloc[0,0] = f\"Pearson Chi-square ({dof: .1f}) = \"\n"
     ]
    }
   ],
   "source": [
    "# 2. Compute the Chi-Square Statistic:\n",
    "\n",
    "import researchpy as rp\n",
    "from scipy.stats import chi2_contingency\n",
    "chi2, p_value ,dof,expected = chi2_contingency(observed)\n",
    "print(\"Chi-Square Statistic:\", chi2)\n",
    "print(\"P-value:\", p_value)\n",
    "print(\"Degrees of Freedom:\", dof)"
   ]
  },
  {
   "cell_type": "code",
   "execution_count": 28,
   "id": "bc11cda7-6a0e-4942-ac42-af0c198141f8",
   "metadata": {},
   "outputs": [
    {
     "name": "stdout",
     "output_type": "stream",
     "text": [
      "critical value : 9.49\n"
     ]
    }
   ],
   "source": [
    "# 3. Determine the Critical Value:\n",
    "\n",
    "# to calculate critical value we nead significance value (alpha) and degree of freedom(DF)\n",
    "\n",
    "alpha = 0.05 # given in the question\n",
    "q = 0.95\n",
    "# DF = (n.of rows -1 )*(n.of col -1)\n",
    "DF = (5-1)*(2-1)\n",
    "DF\n",
    "\n",
    "# critical value is:\n",
    "\n",
    "import scipy.stats as stats\n",
    "crit = stats .chi2.ppf(q,DF)\n",
    "crit = (np.round(crit,2))\n",
    "print(\"critical value :\",crit)"
   ]
  },
  {
   "cell_type": "markdown",
   "id": "824c5a06-b868-4a3a-ac9e-a79b0115ddd8",
   "metadata": {},
   "source": [
    "# 4. Make a Decision:\n",
    "\n",
    "from the above results we got \n",
    "Chi-Square Statistic: 5.638227513227513\n",
    "P-value: 0.22784371130697179\n",
    "critical value : 9.49\n",
    "\n",
    "so based on the outcomes we can say that H0 is accepted and H1 is rejected.\n",
    "that is both the 'smart thermostat' and 'smart light' are independent to each other.\n"
   ]
  }
 ],
 "metadata": {
  "kernelspec": {
   "display_name": "Python 3 (ipykernel)",
   "language": "python",
   "name": "python3"
  },
  "language_info": {
   "codemirror_mode": {
    "name": "ipython",
    "version": 3
   },
   "file_extension": ".py",
   "mimetype": "text/x-python",
   "name": "python",
   "nbconvert_exporter": "python",
   "pygments_lexer": "ipython3",
   "version": "3.12.7"
  }
 },
 "nbformat": 4,
 "nbformat_minor": 5
}
